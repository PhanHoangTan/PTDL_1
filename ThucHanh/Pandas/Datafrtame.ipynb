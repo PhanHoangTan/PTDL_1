{
 "cells": [
  {
   "cell_type": "markdown",
   "metadata": {},
   "source": [
    "Làm việc với Dataframe"
   ]
  },
  {
   "cell_type": "code",
   "execution_count": 1,
   "metadata": {},
   "outputs": [
    {
     "name": "stdout",
     "output_type": "stream",
     "text": [
      "   one  two\n",
      "a  1.0  1.0\n",
      "b  2.0  2.0\n",
      "c  3.0  3.0\n",
      "d  NaN  4.0\n",
      "e  5.0  NaN\n"
     ]
    }
   ],
   "source": [
    "# Tạo DataFrame từ dict các Series 1\n",
    "import pandas as pd\n",
    "# tạo dict từ các series\n",
    "s = {'one': pd.Series([1., 2., 3.,5.], index=['a', 'b', 'c','e']),\n",
    "     'two': pd.Series([1., 2., 3., 4.], index=['a', 'b', 'c', 'd'])}\n",
    "# tạo DataFrame từ dict\n",
    "df = pd.DataFrame(s)\n",
    "print(df)"
   ]
  },
  {
   "cell_type": "code",
   "execution_count": 2,
   "metadata": {},
   "outputs": [
    {
     "name": "stdout",
     "output_type": "stream",
     "text": [
      "one      1.0\n",
      "two      1.0\n",
      "three    1.0\n",
      "Name: a, dtype: float64\n"
     ]
    }
   ],
   "source": [
    "#  Ví dụ 1: Chọn dòng theo label\n",
    "import pandas as pd\n",
    "s = {'one': pd.Series([1., 2., 3.,5.], index=['a', 'b', 'c','e']),\n",
    "        'two': pd.Series([1., 2., 3., 4.], index=['a', 'b', 'c', 'd']),\n",
    "        'three': pd.Series([1., 2., 3., 4.], index=['a', 'b', 'c', 'd'])}\n",
    "df = pd.DataFrame(s)\n",
    "# chọn dòng theo label\n",
    "print(df.loc['a'])\n"
   ]
  },
  {
   "cell_type": "code",
   "execution_count": 3,
   "metadata": {},
   "outputs": [
    {
     "name": "stdout",
     "output_type": "stream",
     "text": [
      "one      5.0\n",
      "two      NaN\n",
      "three    NaN\n",
      "Name: e, dtype: float64\n"
     ]
    }
   ],
   "source": [
    "# Ví dụ 2: Chọn dòng theo vị trí nguyên\n",
    "import pandas as pd\n",
    "s = {'one': pd.Series([1., 2., 3.,5.], index=['a', 'b', 'c','e']),\n",
    "        'two': pd.Series([1., 2., 3., 4.], index=['a', 'b', 'c', 'd']),\n",
    "        'three': pd.Series([1., 2., 3., 4.], index=['a', 'b', 'c', 'd'])}\n",
    "df = pd.DataFrame(s)\n",
    "# chọn dòng theo vị trí nguyên\n",
    "d = df.iloc[4]\n",
    "print(d)"
   ]
  },
  {
   "cell_type": "code",
   "execution_count": 4,
   "metadata": {},
   "outputs": [
    {
     "name": "stdout",
     "output_type": "stream",
     "text": [
      "   one  two  three\n",
      "c  3.0  3.0    3.0\n",
      "d  NaN  4.0    4.0\n"
     ]
    }
   ],
   "source": [
    "#  Ví dụ 3: Cắt (slice) các dòng\n",
    "import pandas as pd\n",
    "s = {'one': pd.Series([1., 2., 3.,5.], index=['a', 'b', 'c','e']),\n",
    "        'two': pd.Series([1., 2., 3., 4.], index=['a', 'b', 'c', 'd']),\n",
    "        'three': pd.Series([1., 2., 3., 4.], index=['a', 'b', 'c', 'd'])}\n",
    "df = pd.DataFrame(s)\n",
    "# cắt (slice) các dòng 3 đến 4\n",
    "d = df[2:4]\n",
    "print(d)\n"
   ]
  }
 ],
 "metadata": {
  "kernelspec": {
   "display_name": "Python 3",
   "language": "python",
   "name": "python3"
  },
  "language_info": {
   "codemirror_mode": {
    "name": "ipython",
    "version": 3
   },
   "file_extension": ".py",
   "mimetype": "text/x-python",
   "name": "python",
   "nbconvert_exporter": "python",
   "pygments_lexer": "ipython3",
   "version": "3.11.9"
  }
 },
 "nbformat": 4,
 "nbformat_minor": 2
}
