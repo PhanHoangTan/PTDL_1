{
 "cells": [
  {
   "cell_type": "markdown",
   "metadata": {},
   "source": [
    "Series\n",
    "Pandas Series là một mảng một chiều có nhãn, có khả năng chứa dữ liệu thuộc bất kỳ loại nào (số nguyên, chuỗi, số thực, v.v.). Nó tương tự như một danh sách hoặc mảng, nhưng mỗi phần tử có thể được gắn nhãn (gọi là index)."
   ]
  },
  {
   "cell_type": "code",
   "execution_count": 21,
   "metadata": {},
   "outputs": [
    {
     "name": "stdout",
     "output_type": "stream",
     "text": [
      "vi du 1 0    0\n",
      "1    1\n",
      "2    2\n",
      "3    3\n",
      "dtype: int64\n",
      "vi du 2 a    0\n",
      "b    1\n",
      "c    2\n",
      "d    3\n",
      "dtype: int64\n",
      "vi du 3 {'a': 0, 'b': 1, 'c': 2, 'd': 3}\n",
      "vi du 4 1    8\n",
      "2    8\n",
      "3    8\n",
      "4    8\n",
      "5    8\n",
      "dtype: int64\n",
      "vi du 5 0    73\n",
      "1    43\n",
      "dtype: int32\n",
      "RangeIndex(start=0, stop=2, step=1)\n",
      "[73 43]\n",
      "vi du 6 Ke toan    310\n",
      "KT         360\n",
      "CNTT       580\n",
      "Co khi     340\n",
      "dtype: int64\n",
      "Index(['Ke toan', 'KT', 'CNTT', 'Co khi'], dtype='object')\n",
      "[310 360 580 340]\n"
     ]
    }
   ],
   "source": [
    "#   Vídụ1:Khôngtruyềnindex\n",
    "import pandas as pd\n",
    "s = pd.Series([0,1,2,3])\n",
    "print(f'vi du 1')\n",
    "print(s)"
   ]
  },
  {
   "cell_type": "code",
   "execution_count": null,
   "metadata": {},
   "outputs": [],
   "source": [
    "#  Ví dụ 2: Có truyền index\n",
    "a = pd.Series([0,1,2,3], index = ['a','b','c','d'])\n",
    "print(f'vi du 2')\n",
    "print(a)\n"
   ]
  },
  {
   "cell_type": "code",
   "execution_count": null,
   "metadata": {},
   "outputs": [],
   "source": [
    "#  Ví dụ 3: Tạo Series từ dict\n",
    "s = pd.Series([0,1,2,3], index = ['a','b','c','d'])\n",
    "s_dict = s.to_dict()\n",
    "print(f'vi du 3')\n",
    "print(s_dict)"
   ]
  },
  {
   "cell_type": "code",
   "execution_count": 24,
   "metadata": {},
   "outputs": [
    {
     "name": "stdout",
     "output_type": "stream",
     "text": [
      "vi du 4\n",
      "1    8\n",
      "2    8\n",
      "3    8\n",
      "4    8\n",
      "5    8\n",
      "dtype: int64\n"
     ]
    }
   ],
   "source": [
    "# Ví dụ 4: Tạo Series từ Scalar Nếu dữ liệu là một giá trị scalar, index phải được \n",
    "# cung cấp. Giá trị sẽ được lặp lại để phù hợp với độ dài của index.\n",
    "ser = pd.Series(8, index=[1, 2, 3, 4, 5])\n",
    "print(f'vi du 4')\n",
    "print(ser)"
   ]
  },
  {
   "cell_type": "code",
   "execution_count": null,
   "metadata": {},
   "outputs": [],
   "source": [
    "# Ví dụ 5: Tạo Series từ ndarray\n",
    "import numpy as np\n",
    "s = pd.Series(np.random.randint(100,size = 2))\n",
    "print(f'vi du 5')\n",
    "print(s)\n",
    "print(s.index)\n",
    "print(s.values)"
   ]
  },
  {
   "cell_type": "code",
   "execution_count": null,
   "metadata": {},
   "outputs": [],
   "source": [
    "# Ví dụ 6: Tạo dữ liệu Series 6\n",
    "chi_so = ['Ke toan', 'KT', 'CNTT', 'Co khi']\n",
    "gia_tri = [310,360,580,340]\n",
    "s = pd.Series(gia_tri, index = chi_so)\n",
    "print(f'vi du 6',s)\n",
    "print(s)\n",
    "print(s.index)\n",
    "print(s.values)"
   ]
  },
  {
   "cell_type": "code",
   "execution_count": 23,
   "metadata": {},
   "outputs": [
    {
     "name": "stdout",
     "output_type": "stream",
     "text": [
      "vi du 7\n",
      "KT        310\n",
      "KT        360\n",
      "CNTT      580\n",
      "Co khi    340\n",
      "dtype: int64\n",
      "Index(['KT', 'KT', 'CNTT', 'Co khi'], dtype='object')\n",
      "[310 360 580 340]\n"
     ]
    }
   ],
   "source": [
    "# Ví dụ 7: Tạo dữ liệu Series 7 trung nhau\n",
    "chi_so = ['KT', 'KT', 'CNTT', 'Co khi']\n",
    "gia_tri = [310,360,580,340]\n",
    "s = pd.Series(gia_tri, index = chi_so)\n",
    "print(f'vi du 7' )\n",
    "print(s)\n",
    "print(s.index)\n",
    "print(s.values)"
   ]
  },
  {
   "cell_type": "markdown",
   "metadata": {},
   "source": [
    "Làm việc với Series"
   ]
  },
  {
   "cell_type": "code",
   "execution_count": 27,
   "metadata": {},
   "outputs": [
    {
     "name": "stdout",
     "output_type": "stream",
     "text": [
      "-1.3\n",
      "nan\n",
      "b    4.5\n",
      "c    3.4\n",
      "a   -1.3\n",
      "d    NaN\n",
      "dtype: float64\n"
     ]
    }
   ],
   "source": [
    "#  Ví dụ 1: Lấy dữ liệu tại index cụ thể.\n",
    "import pandas as pd\n",
    "data = {'a':-1.3,'b' : 4.5, 'c': 3.4 }\n",
    "ser = pd.Series(data,index = ['b','c','a','d'])\n",
    "print(ser['a'])\n",
    "print(ser['d'])\n",
    "print(ser)"
   ]
  },
  {
   "cell_type": "code",
   "execution_count": 28,
   "metadata": {},
   "outputs": [
    {
     "name": "stdout",
     "output_type": "stream",
     "text": [
      "b    4.5\n",
      "c    3.4\n",
      "dtype: float64\n"
     ]
    }
   ],
   "source": [
    "# Ví dụ 2: Lấy dữ liệu từ đầu đến vị trí index cụ thể\n",
    "import pandas as pd\n",
    "data = {'a':-1.3,'b' : 4.5, 'c': 3.4 }\n",
    "ser = pd.Series(data,index = ['b','c','a','d'])\n",
    "print(ser[:'c'])"
   ]
  },
  {
   "cell_type": "code",
   "execution_count": 29,
   "metadata": {},
   "outputs": [
    {
     "name": "stdout",
     "output_type": "stream",
     "text": [
      "b    4.5\n",
      "c    3.4\n",
      "dtype: float64\n"
     ]
    }
   ],
   "source": [
    "# Ví dụ 3: Lấy dữ liệu theo vị trí: 2 dữ liệu đầu\n",
    "import pandas as pd\n",
    "data = {'a':-1.3,'b' : 4.5, 'c': 3.4 }\n",
    "ser = pd.Series(data,index = ['b','c','a','d'])\n",
    "print(ser[:2])\n"
   ]
  },
  {
   "cell_type": "code",
   "execution_count": 30,
   "metadata": {},
   "outputs": [
    {
     "name": "stdout",
     "output_type": "stream",
     "text": [
      "c    3.4\n",
      "a   -1.3\n",
      "d    NaN\n",
      "dtype: float64\n"
     ]
    }
   ],
   "source": [
    "#  Ví dụ 4: Lấy 3 dữ liệu cuối\n",
    "import pandas as pd \n",
    "data = {'a':-1.3,'b' : 4.5, 'c': 3.4 }\n",
    "ser = pd.Series(data,index=['b','c','a','d'])\n",
    "print(ser[-3:])"
   ]
  },
  {
   "cell_type": "code",
   "execution_count": 32,
   "metadata": {},
   "outputs": [
    {
     "name": "stdout",
     "output_type": "stream",
     "text": [
      "[ 4.5  3.4 -1.3  5.6  7.8  9.   nan]\n"
     ]
    }
   ],
   "source": [
    "# Ví dụ 5: Lấy dạng array của Series bằng numpy.asarray\n",
    "import pandas as pd\n",
    "data = {'a':-1.3,'b' : 4.5, 'c': 3.4 , 'd': 5.6, 'e': 7.8 , 'f': 9.0}\n",
    "ser = pd.Series(data,index=['b','c','a','d','e','f','g'])\n",
    "a = np.asarray(ser)\n",
    "print(a)"
   ]
  },
  {
   "cell_type": "code",
   "execution_count": 34,
   "metadata": {},
   "outputs": [
    {
     "name": "stdout",
     "output_type": "stream",
     "text": [
      "340\n",
      "KT    310\n",
      "KT    360\n",
      "dtype: int64\n",
      "580\n"
     ]
    }
   ],
   "source": [
    "# Ví dụ 6: Truy xuất dữ liệu thông qua chỉ số:\n",
    "import pandas as pd\n",
    "import numpy as np\n",
    "chi_so = [\"KT\", \"KT\", \"CNTT\", \"Co khi\"]\n",
    "gia_tri = [310, 360, 580, 340]\n",
    "s = pd.Series(gia_tri, index=chi_so)\n",
    "print(s['Co khi'])\n",
    "print(s['KT'])\n",
    "print(s.CNTT)\n"
   ]
  },
  {
   "cell_type": "code",
   "execution_count": 35,
   "metadata": {},
   "outputs": [
    {
     "name": "stdout",
     "output_type": "stream",
     "text": [
      "CNTT       680.0\n",
      "Co khi       NaN\n",
      "KT           NaN\n",
      "Ke Toan      NaN\n",
      "PM           NaN\n",
      "dtype: float64\n"
     ]
    }
   ],
   "source": [
    "# Vi du 7:  Phép toán trên Series\n",
    "import pandas as pd\n",
    "import numpy as np\n",
    "chi_so = [\"Ke Toan\", \"KT\", \"CNTT\", \"Co khi\"]\n",
    "gia_tri = [310, 360, 580, 340]\n",
    "# chỉ số giống nhau thì tính gộp, nếu không thì NaN\n",
    "s = pd.Series(gia_tri, index=chi_so)\n",
    "p = pd.Series([100,100],['CNTT','PM'])\n",
    "y = s + p\n",
    "print(y)\n"
   ]
  },
  {
   "cell_type": "code",
   "execution_count": 36,
   "metadata": {},
   "outputs": [
    {
     "name": "stdout",
     "output_type": "stream",
     "text": [
      "Ke Toan    1310\n",
      "KT         1360\n",
      "CNTT        580\n",
      "Co khi     1340\n",
      "dtype: int64\n"
     ]
    }
   ],
   "source": [
    "# Ví dụ 8: Ham Apply()\n",
    "import pandas as pd\n",
    "import numpy as np\n",
    "def Tang(x):\n",
    "    return x if x > 500 else x + 1000\n",
    "chi_so = [\"Ke Toan\", \"KT\", \"CNTT\", \"Co khi\"]\n",
    "gia_tri = [310, 360, 580, 340]\n",
    "s = pd.Series(gia_tri, chi_so)\n",
    " #ápdụngTangtrênS(khôngthayđổiS)\n",
    "print(s.apply(Tang))\n"
   ]
  },
  {
   "cell_type": "code",
   "execution_count": null,
   "metadata": {},
   "outputs": [],
   "source": []
  }
 ],
 "metadata": {
  "kernelspec": {
   "display_name": "Python 3",
   "language": "python",
   "name": "python3"
  },
  "language_info": {
   "codemirror_mode": {
    "name": "ipython",
    "version": 3
   },
   "file_extension": ".py",
   "mimetype": "text/x-python",
   "name": "python",
   "nbconvert_exporter": "python",
   "pygments_lexer": "ipython3",
   "version": "3.11.9"
  }
 },
 "nbformat": 4,
 "nbformat_minor": 2
}
